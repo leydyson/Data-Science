{
 "cells": [
  {
   "cell_type": "markdown",
   "metadata": {},
   "source": [
    "Baixando o arquivo "
   ]
  },
  {
   "cell_type": "code",
   "execution_count": 1,
   "metadata": {},
   "outputs": [
    {
     "ename": "ModuleNotFoundError",
     "evalue": "No module named 'kagglehub'",
     "output_type": "error",
     "traceback": [
      "\u001b[1;31m---------------------------------------------------------------------------\u001b[0m",
      "\u001b[1;31mModuleNotFoundError\u001b[0m                       Traceback (most recent call last)",
      "Cell \u001b[1;32mIn[1], line 3\u001b[0m\n\u001b[0;32m      1\u001b[0m \u001b[38;5;66;03m# Install dependencies as needed:\u001b[39;00m\n\u001b[0;32m      2\u001b[0m \u001b[38;5;66;03m# pip install kagglehub[pandas-datasets]\u001b[39;00m\n\u001b[1;32m----> 3\u001b[0m \u001b[38;5;28;01mimport\u001b[39;00m \u001b[38;5;21;01mkagglehub\u001b[39;00m\n\u001b[0;32m      4\u001b[0m \u001b[38;5;28;01mfrom\u001b[39;00m \u001b[38;5;21;01mkagglehub\u001b[39;00m \u001b[38;5;28;01mimport\u001b[39;00m KaggleDatasetAdapter\n\u001b[0;32m      5\u001b[0m \u001b[38;5;28;01mimport\u001b[39;00m \u001b[38;5;21;01mpandas\u001b[39;00m \u001b[38;5;28;01mas\u001b[39;00m \u001b[38;5;21;01mpd\u001b[39;00m\n",
      "\u001b[1;31mModuleNotFoundError\u001b[0m: No module named 'kagglehub'"
     ]
    }
   ],
   "source": [
    "# Install dependencies as needed:\n",
    "# pip install kagglehub[pandas-datasets]\n",
    "import kagglehub\n",
    "from kagglehub import KaggleDatasetAdapter\n",
    "import pandas as pd"
   ]
  },
  {
   "cell_type": "code",
   "execution_count": 14,
   "metadata": {},
   "outputs": [],
   "source": [
    "#Link: https://www.kaggle.com/datasets/adilshamim8/student-performance-and-learning-style"
   ]
  },
  {
   "cell_type": "code",
   "execution_count": null,
   "metadata": {},
   "outputs": [],
   "source": [
    "import kagglehub\n",
    "\n",
    "kagglehub.login()"
   ]
  },
  {
   "cell_type": "code",
   "execution_count": 15,
   "metadata": {},
   "outputs": [],
   "source": [
    "path = kagglehub.dataset_download(\"adilshamim8/student-performance-and-learning-style\")"
   ]
  },
  {
   "cell_type": "code",
   "execution_count": 16,
   "metadata": {},
   "outputs": [],
   "source": [
    "# Set the path to the file you'd like to load\n",
    "file_path = \"/home/comigo/Área de Trabalho/Databases/student_performance_large_dataset.csv\""
   ]
  },
  {
   "cell_type": "code",
   "execution_count": 17,
   "metadata": {},
   "outputs": [],
   "source": [
    "df=pd.read_csv(file_path)"
   ]
  },
  {
   "cell_type": "code",
   "execution_count": null,
   "metadata": {},
   "outputs": [],
   "source": [
    "print(\"First 5 records:\", df.head())"
   ]
  },
  {
   "cell_type": "markdown",
   "metadata": {},
   "source": [
    "Pegando o arquivo da web"
   ]
  },
  {
   "cell_type": "code",
   "execution_count": null,
   "metadata": {},
   "outputs": [],
   "source": [
    "import os\n",
    "import pandas as pd\n",
    "from kaggle.api.kaggle_api_extended import KaggleApi\n",
    "\n",
    "# Configurações da API do Kaggle\n",
    "os.environ['KAGGLE_USERNAME'] = 'seu_nome_de_usuario'\n",
    "os.environ['KAGGLE_KEY'] = 'sua_chave_api'\n",
    "\n",
    "api = KaggleApi()\n",
    "api.authenticate()"
   ]
  },
  {
   "cell_type": "code",
   "execution_count": null,
   "metadata": {},
   "outputs": [
    {
     "name": "stdout",
     "output_type": "stream",
     "text": [
      "Dataset URL: https://www.kaggle.com/datasets/adilshamim8/student-performance-and-learning-style\n",
      "  Student_ID  Age  Gender  Study_Hours_per_Week Preferred_Learning_Style  \\\n",
      "0     S00001   18  Female                    48              Kinesthetic   \n",
      "1     S00002   29  Female                    30          Reading/Writing   \n",
      "2     S00003   20  Female                    47              Kinesthetic   \n",
      "3     S00004   23  Female                    13                 Auditory   \n",
      "4     S00005   19  Female                    24                 Auditory   \n",
      "\n",
      "   Online_Courses_Completed Participation_in_Discussions  \\\n",
      "0                        14                          Yes   \n",
      "1                        20                           No   \n",
      "2                        11                           No   \n",
      "3                         0                          Yes   \n",
      "4                        19                          Yes   \n",
      "\n",
      "   Assignment_Completion_Rate (%)  Exam_Score (%)  Attendance_Rate (%)  \\\n",
      "0                             100              69                   66   \n",
      "1                              71              40                   57   \n",
      "2                              60              43                   79   \n",
      "3                              63              70                   60   \n",
      "4                              59              63                   93   \n",
      "\n",
      "  Use_of_Educational_Tech Self_Reported_Stress_Level  \\\n",
      "0                     Yes                       High   \n",
      "1                     Yes                     Medium   \n",
      "2                     Yes                        Low   \n",
      "3                     Yes                        Low   \n",
      "4                     Yes                     Medium   \n",
      "\n",
      "   Time_Spent_on_Social_Media (hours/week)  Sleep_Hours_per_Night Final_Grade  \n",
      "0                                        9                      8           C  \n",
      "1                                       28                      8           D  \n",
      "2                                       13                      7           D  \n",
      "3                                       24                     10           B  \n",
      "4                                       26                      8           C  \n"
     ]
    }
   ],
   "source": [
    "# Baixa o arquivo diretamente do Kaggle\n",
    "# Baixa o arquivo diretamente do Kaggle\n",
    "dataset_url = 'adilshamim8/student-performance-and-learning-style'\n",
    "file_name = 'student_performance_large_dataset.csv'\n",
    "api.dataset_download_file(dataset_url, file_name, path='.')\n",
    "\n",
    "# Lê o arquivo CSV\n",
    "df_web = pd.read_csv(file_name)\n",
    "print(df.df_web())"
   ]
  }
 ],
 "metadata": {
  "kernelspec": {
   "display_name": "base",
   "language": "python",
   "name": "python3"
  },
  "language_info": {
   "codemirror_mode": {
    "name": "ipython",
    "version": 3
   },
   "file_extension": ".py",
   "mimetype": "text/x-python",
   "name": "python",
   "nbconvert_exporter": "python",
   "pygments_lexer": "ipython3",
   "version": "3.12.7"
  }
 },
 "nbformat": 4,
 "nbformat_minor": 2
}
